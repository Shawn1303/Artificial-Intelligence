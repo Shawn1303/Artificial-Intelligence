{
  "cells": [
    {
      "cell_type": "markdown",
      "metadata": {
        "id": "view-in-github",
        "colab_type": "text"
      },
      "source": [
        "<a href=\"https://colab.research.google.com/github/Shawn1303/Artificial-Intelligence/blob/main/Hw1/Maze.ipynb\" target=\"_parent\"><img src=\"https://colab.research.google.com/assets/colab-badge.svg\" alt=\"Open In Colab\"/></a>"
      ]
    },
    {
      "cell_type": "markdown",
      "metadata": {
        "id": "vEDxGYC_yqTq"
      },
      "source": [
        "# SBU CSE 352 - HW 1.2 - Search: Solving a Maze Using a Goal-based Agent\n",
        "\n",
        "\n",
        "All student names in group: Shawn Zhu, Benson Chen\n",
        "\n",
        "I understand that my submission needs to be my own group's work: SZ, BC\n",
        "\n",
        "I understand that ChatGPT / Copilot / other AI tools are not allowed: SZ, BC\n",
        "\n",
        "---\n",
        "\n",
        "## Instructions\n",
        "\n",
        "Total Points: 100\n",
        "\n",
        "Complete this notebook. Use the provided notebook cells and insert additional code and markdown cells as needed. Only use standard packages (numpy, scipy, and built-in packages like random). Submit the completely rendered notebook as a HTML file.\n",
        "\n",
        "\n",
        "## Introduction\n",
        "\n",
        "The agent has a map of the maze it is in and the environment is assumed to be **deterministic, discrete, and known.** The agent must use the map to plan a path through the maze from the starting location $S$ to the goal location $G$.  This is a planing exercise for a goal-based agent, so you do not need to implement an environment, just use the map to search for a path. Once the plan is made, the agent in a deterministic environment (i.e., the transition function is deterministic with the outcome of each state/action pair fixed and no randomness) can just follow the path and does not need to care about the percepts.\n",
        "This is also called an **[open-loop system](https://en.wikipedia.org/wiki/Open-loop_controller).**\n",
        "The execution phase is trivial and we do not implement it in this exercise.\n",
        "\n",
        "Tree search algorithm implementations that you find online and used in general algorithms courses have often a different aim. These algorithms assume that you already have a tree in memory. We are interested in dynamically creating a search tree with the aim of finding a good/the best path from the root noteto the goal state. Follow the pseudo code presented in the text book (and replicated in the slides) closely. Ideally, we would like to search only a small part of the maze, i.e., create a search tree with as few nodes as possible.\n",
        "\n",
        "Several mazes for this exercise are stored as text files. Here is the small example maze:"
      ]
    },
    {
      "cell_type": "markdown",
      "source": [],
      "metadata": {
        "id": "t2GRNAqkBbp5"
      }
    },
    {
      "cell_type": "code",
      "source": [
        "# First download the repo and change the directory to be the one where the dependencies are.\n",
        "# You should only need to do this once per session. If you want to reset, do Runtime -> Disconnect and Delete Runtime\n",
        "# You can always do !pwd to see the current working directory and !ls to list current files.\n",
        "!git clone https://github.com/stanleybak/CS7320-AI.git\n",
        "%cd CS7320-AI/Search\n",
        "!ls"
      ],
      "metadata": {
        "id": "dTw87RlBzTOi",
        "outputId": "5bcea452-4549-44c4-9743-5f60f4c753b4",
        "colab": {
          "base_uri": "https://localhost:8080/"
        }
      },
      "execution_count": 2,
      "outputs": [
        {
          "output_type": "stream",
          "name": "stdout",
          "text": [
            "Cloning into 'CS7320-AI'...\n",
            "remote: Enumerating objects: 2637, done.\u001b[K\n",
            "remote: Counting objects: 100% (754/754), done.\u001b[K\n",
            "remote: Compressing objects: 100% (313/313), done.\u001b[K\n",
            "remote: Total 2637 (delta 466), reused 712 (delta 436), pack-reused 1883\u001b[K\n",
            "Receiving objects: 100% (2637/2637), 283.93 MiB | 40.19 MiB/s, done.\n",
            "Resolving deltas: 100% (1634/1634), done.\n",
            "/content/CS7320-AI/Search\n",
            "empty_2_maze.txt\t  loops_maze.txt\t\t     maze_helper.py   small_maze.txt\n",
            "empty_maze.txt\t\t  Maze_BFS_vs_A_Star.ipynb\t     Maze.ipynb       wall_maze.txt\n",
            "Explore_heuristics.ipynb  Maze_Example-Animation_full.ipynb  medium_maze.txt\n",
            "large_maze.txt\t\t  Maze_Example-Animation.ipynb\t     open_maze.txt\n",
            "L_maze.txt\t\t  Maze_Example.ipynb\t\t     README.md\n"
          ]
        }
      ]
    },
    {
      "cell_type": "code",
      "execution_count": 116,
      "metadata": {
        "colab": {
          "base_uri": "https://localhost:8080/"
        },
        "id": "ny3IAxVAyqTs",
        "outputId": "0de12898-30ac-44d0-b99e-27ffa3748416"
      },
      "outputs": [
        {
          "output_type": "stream",
          "name": "stdout",
          "text": [
            "XXXXXXXXXXXXXXXXXXXXXX\n",
            "X XX        X X      X\n",
            "X    XXXXXX X XXXXXX X\n",
            "XXXXXX     S  X      X\n",
            "X    X XXXXXX XX XXXXX\n",
            "X XXXX X         X   X\n",
            "X        XXX XXX   X X\n",
            "XXXXXXXXXX    XXXXXX X\n",
            "XG         XX        X\n",
            "XXXXXXXXXXXXXXXXXXXXXX\n",
            "\n"
          ]
        }
      ],
      "source": [
        "# if the below fails to open, then small_maze.txt is not in the current working directory (see above code block)\n",
        "\n",
        "with open(\"small_maze.txt\", \"r\") as f:\n",
        "# with open(\"medium_maze.txt\", \"r\") as f:\n",
        "# with open(\"large_maze.txt\", \"r\") as f:\n",
        "# with open(\"open_maze.txt\", \"r\") as f:\n",
        "# with open(\"empty_maze.txt\", \"r\") as f:\n",
        "# with open(\"empty_2_maze.txt\", \"r\") as f:\n",
        "# with open(\"wall_maze.txt\", \"r\") as f:\n",
        "# with open(\"loops_maze.txt\", \"r\") as f:\n",
        "    maze_str = f.read()\n",
        "print(maze_str)"
      ]
    },
    {
      "cell_type": "markdown",
      "metadata": {
        "id": "Hdqjt6WfyqTs"
      },
      "source": [
        "__Note:__ The mazes above contains cycles and therefore the state space may not form proper trees unless cycles are prevented. Therfore, you will need to deal with cycle detection in your code."
      ]
    },
    {
      "cell_type": "markdown",
      "metadata": {
        "id": "Kzts6NT5yqTt"
      },
      "source": [
        "## Parsing and pretty printing the maze\n",
        "\n",
        "The maze can also be displayed in color using code in the module [maze_helper.py](maze_helper.py). The code parses the string representing the maze and converts it into a `numpy` 2d array which you can use in your implementation. Position are represented as a 2-tuple of the form `(row, col)`."
      ]
    },
    {
      "cell_type": "code",
      "execution_count": 117,
      "metadata": {
        "tags": [],
        "colab": {
          "base_uri": "https://localhost:8080/"
        },
        "id": "2wTIXhvGyqTt",
        "outputId": "4bb390dd-135f-4f28-d920-8ce5d02a7113"
      },
      "outputs": [
        {
          "output_type": "stream",
          "name": "stdout",
          "text": [
            "Position(0,0): X\n",
            "Position(8,1): G\n"
          ]
        }
      ],
      "source": [
        "import maze_helper as mh\n",
        "\n",
        "maze = mh.parse_maze(maze_str)\n",
        "\n",
        "# look at a position in the maze by subsetting the 2d array\n",
        "print(\"Position(0,0):\", maze[0, 0])\n",
        "\n",
        "# there is also a helper function called `look(maze, pos)` available\n",
        "# which uses a 2-tuple for the position.\n",
        "print(\"Position(8,1):\", mh.look(maze, (8, 1)))"
      ]
    },
    {
      "cell_type": "markdown",
      "metadata": {
        "id": "rG4RYBXOyqTt"
      },
      "source": [
        "A helper function to visualize the maze is also available."
      ]
    },
    {
      "cell_type": "code",
      "execution_count": 65,
      "metadata": {
        "colab": {
          "base_uri": "https://localhost:8080/",
          "height": 430
        },
        "id": "pXcoB6ULyqTu",
        "outputId": "29896991-877e-4300-bfbb-5b56bdc6d339"
      },
      "outputs": [
        {
          "output_type": "display_data",
          "data": {
            "text/plain": [
              "<Figure size 640x480 with 1 Axes>"
            ],
            "image/png": "[encoded data removed]"
          },
          "metadata": {
            "image/png": {
              "width": 417,
              "height": 413
            }
          }
        }
      ],
      "source": [
        "%matplotlib inline\n",
        "%config InlineBackend.figure_format = 'retina'\n",
        "# use higher resolution images in notebook\n",
        "\n",
        "mh.show_maze(maze)"
      ]
    },
    {
      "cell_type": "markdown",
      "metadata": {
        "id": "QiX0kd6NyqTu"
      },
      "source": [
        "Find the position of the start and the goal using the helper function `find_pos()`"
      ]
    },
    {
      "cell_type": "code",
      "execution_count": 6,
      "metadata": {
        "colab": {
          "base_uri": "https://localhost:8080/"
        },
        "id": "Z1ZiNESOyqTu",
        "outputId": "2e12eafe-fcca-43ca-a0f1-fe164c07e2b2"
      },
      "outputs": [
        {
          "output_type": "stream",
          "name": "stdout",
          "text": [
            "Start location: (10, 1)\n",
            "Goal location: (1, 1)\n"
          ]
        }
      ],
      "source": [
        "print(\"Start location:\", mh.find_pos(maze, what = \"S\"))\n",
        "print(\"Goal location:\", mh.find_pos(maze, what = \"G\"))"
      ]
    },
    {
      "cell_type": "markdown",
      "metadata": {
        "id": "z8t19iQlyqTv"
      },
      "source": [
        "Helper function documentation."
      ]
    },
    {
      "cell_type": "code",
      "execution_count": 7,
      "metadata": {
        "colab": {
          "base_uri": "https://localhost:8080/"
        },
        "id": "cTN8wMExyqTv",
        "outputId": "acbc5f2a-4faa-4ad4-b17e-22dd5878bbfb"
      },
      "outputs": [
        {
          "output_type": "stream",
          "name": "stdout",
          "text": [
            "Help on module maze_helper:\n",
            "\n",
            "NAME\n",
            "    maze_helper\n",
            "\n",
            "DESCRIPTION\n",
            "    Code for the Maze Assignment by Michael Hahsler\n",
            "    Usage: \n",
            "        import maze_helper as mh\n",
            "        mh.show_some_mazes()\n",
            "\n",
            "FUNCTIONS\n",
            "    find_pos(maze, what='S')\n",
            "        Find start/goal in a maze and returns the first one. \n",
            "        Caution: there is no error checking!\n",
            "        \n",
            "        Parameters:\n",
            "        maze: a array with characters prodced by parse_maze()\n",
            "        what: the letter to be found ('S' for start and 'G' for goal)\n",
            "        \n",
            "        Returns:\n",
            "        a tupple (x, y) for the found position.\n",
            "    \n",
            "    look(maze, pos)\n",
            "        Look at the label of a square with the position as an array of the form (x, y).\n",
            "    \n",
            "    parse_maze(maze_str)\n",
            "        Convert a maze as a string into a 2d numpy array\n",
            "    \n",
            "    show_maze(maze, fontsize=10)\n",
            "        Display a (parsed) maze as an image.\n",
            "    \n",
            "    welcome()\n",
            "        Welcome message.\n",
            "\n",
            "FILE\n",
            "    /content/CS7320-AI/Search/maze_helper.py\n",
            "\n",
            "\n"
          ]
        }
      ],
      "source": [
        "help(mh)"
      ]
    },
    {
      "cell_type": "markdown",
      "metadata": {
        "id": "E7mVM97byqTv"
      },
      "source": [
        "## Tree structure\n",
        "\n",
        "Here is an implementation of the basic node structure for the search algorithms (see Fig 3.7 on page 73). I have added a method that extracts the path from the root node to the current node. It can be used to get the path when the search is completed."
      ]
    },
    {
      "cell_type": "code",
      "execution_count": 113,
      "metadata": {
        "id": "--QcXcbLyqTw"
      },
      "outputs": [],
      "source": [
        "class Node:\n",
        "    def __init__(self, pos, parent, action, cost):\n",
        "        self.pos = tuple(pos)    # the state; positions are (row,col)\n",
        "        self.parent = parent     # reference to parent node. None means root node.\n",
        "        self.action = action     # action used in the transition function (root node has None)\n",
        "        self.cost = cost         # for uniform cost this is the depth. It is also g(n) for A* search\n",
        "\n",
        "    def __str__(self):\n",
        "        return f\"Node - pos = {self.pos}; action = {self.action}; cost = {self.cost}\"\n",
        "\n",
        "    def __lt__(self, node):\n",
        "        return self.cost < node.cost\n",
        "\n",
        "    def h(self, n):\n",
        "        return abs(self.pos[0] - n[0]) + abs(self.pos[1] - n[1])\n",
        "\n",
        "    def get_path_from_root(self):\n",
        "        \"\"\"returns nodes on the path from the root to the current node.\"\"\"\n",
        "        node = self\n",
        "        path = [node]\n",
        "\n",
        "        while not node.parent is None:\n",
        "            node = node.parent\n",
        "            path.append(node)\n",
        "\n",
        "        path.reverse()\n",
        "\n",
        "        return(path)"
      ]
    },
    {
      "cell_type": "markdown",
      "metadata": {
        "id": "o9qSfdNFyqTw"
      },
      "source": [
        "If needed, then you can add more fields to the class like the heuristic value $h(n)$ or $f(n)$.\n",
        "\n",
        "Examples for how to create and use a tree and information on memory management can be found [here](../HOWTOs/trees.ipynb)."
      ]
    },
    {
      "cell_type": "markdown",
      "metadata": {
        "id": "YePL7s9NyqTw"
      },
      "source": [
        "# Tasks\n",
        "\n",
        "The goal is to:\n",
        "\n",
        "1. Implement the following search algorithms for solving different mazes:\n",
        "\n",
        "    - Breadth-first search (BFS)\n",
        "    - Depth-first search (DFS)\n",
        "    - Greedy best-first search (GBFS)\n",
        "    - A* search\n",
        "\n",
        "2. Run each of the above algorithms on the\n",
        "    - [small maze](small_maze.txt),\n",
        "    - [medium maze](medium_maze.txt),\n",
        "    - [large maze](large_maze.txt),\n",
        "    - [open maze](open_maze.txt),\n",
        "    - [wall maze](wall_maze.txt),\n",
        "    - [loops maze](loops_maze.txt),\n",
        "    - [empty maze](empty_maze.txt), and\n",
        "    - [empty 2_maze](empty_2_maze.txt).\n",
        "    \n",
        "3. For each problem instance and each search algorithm, report the following in a table:\n",
        "\n",
        "    - The solution and its path cost\n",
        "    - Total number of nodes expanded\n",
        "    - Maximum tree depth\n",
        "    - Maximum size of the frontier\n",
        "\n",
        "4. Display each solution by marking every maze square (or state) visited and the squares on the final path.\n",
        "\n",
        "## General [10 Points]\n",
        "\n",
        "1. Your implementation can use libraries like math, numpy, scipy, but not libraries that implement inteligent agents or complete search algorithms. Try to keep the code simple! In this course, we want to learn about the algorithms and we often do not need to use object-oriented design.\n",
        "2. You notebook needs to be formated professionally.\n",
        "    - Add additional markdown blocks for your description, comments in the code, add tables and use mathplotlib to produce charts where appropriate\n",
        "    - Do not show debugging output or include an excessive amount of output.\n",
        "    - Check that your PDF file is readable. For example, long lines are cut off in the PDF file. You don't have control over page breaks, so do not worry about these.\n",
        "3. Document your code. Add a short discussion of how your implementation works and your design choices."
      ]
    },
    {
      "cell_type": "markdown",
      "metadata": {
        "id": "p_6z07BdyqTw"
      },
      "source": [
        "## Task 1: Defining the search problem and determining the problem size [10 Points]\n",
        "\n",
        "Define the components of the search problem:\n",
        "\n",
        "* Initial state\n",
        "* Actions\n",
        "* Transition model\n",
        "* Goal state\n",
        "* Path cost\n",
        "\n",
        "Use verbal descriptions, variables and equations as appropriate.\n",
        "\n",
        "*Note:* You can swich the next block from code to Markdown and use formating."
      ]
    },
    {
      "cell_type": "code",
      "execution_count": null,
      "metadata": {
        "id": "jCvHIrBwyqTw",
        "colab": {
          "base_uri": "https://localhost:8080/",
          "height": 122
        },
        "outputId": "4c0c7561-ab9f-4beb-be37-23e17181ec0e"
      },
      "outputs": [
        {
          "output_type": "execute_result",
          "data": {
            "text/plain": [
              "\"\\n\\n\\nInitial state: All the spaces are either marked as S, G, X or unmarked. \\nThe agent starts at location marked S on the maze map and wants \\nto reach location marked G. This is the goal that the agent wants to reach. All \\nthe X's marked on the map represent a wall where the agent cannot go but the \\nagent can go through the empty/unmarked spaces.\\n\\nActions: The actions the agent can perform is move left, right, up or down.\\n\\nTransition model: The action of move left, right, up or down moves the agent \\none space towards the direction it is applied if the designated space is not \\nmarked as X. If it is marked as X, then no action is taken. \\n\\nGoal state: The goal location is marked as G.\\n\\nPath cost: Each action costs 1\\n\""
            ],
            "application/vnd.google.colaboratory.intrinsic+json": {
              "type": "string"
            }
          },
          "metadata": {},
          "execution_count": 15
        }
      ],
      "source": [
        "# Your answer goes here\n",
        "'''\n",
        "Initial state: All the spaces are either marked as S, G, X or unmarked.\n",
        "The agent starts at location marked S on the maze map and wants\n",
        "to reach location marked G. This is the goal that the agent wants to reach. All\n",
        "the X's marked on the map represent a wall where the agent cannot go but the\n",
        "agent can go through the empty/unmarked spaces.\n",
        "\n",
        "Actions: The actions the agent can perform is move left, right, up or down.\n",
        "\n",
        "Transition model: The action of move left, right, up or down moves the agent\n",
        "one space towards the direction it is applied if the designated space is not\n",
        "marked as X. If it is marked as X, then no action is taken.\n",
        "\n",
        "Goal state: The goal location is marked as G.\n",
        "\n",
        "Path cost: Each action costs 1\n",
        "'''"
      ]
    },
    {
      "cell_type": "markdown",
      "metadata": {
        "id": "xz7hMCAkyqTw"
      },
      "source": [
        "Give some estimates for the problem size:\n",
        "\n",
        "* $n$: state space size\n",
        "* $d$: depth of the optimal solution\n",
        "* $m$: maximum depth of tree\n",
        "* $b$: maximum branching factor\n",
        "\n",
        "Describe how you would determin these values for a given maze."
      ]
    },
    {
      "cell_type": "code",
      "execution_count": null,
      "metadata": {
        "id": "q7pGs5acyqTw"
      },
      "outputs": [],
      "source": [
        "# Your answer goes here\n",
        "'''\n",
        "n = count number of unmarked spaces reachable from location S\n",
        "d = calculate the mahattan distance of S and G\n",
        "m = n because every empty space reachable from S can be reached in one branch\n",
        "b = 4 because theres four directions you can potentially go\n",
        "'''"
      ]
    },
    {
      "cell_type": "markdown",
      "metadata": {
        "id": "pyN1oAczyqTw"
      },
      "source": [
        "## Task 2: Uninformed search: Breadth-first and depth-first [40 Points]\n",
        "\n",
        "Implement these search strategies. Follow the pseudocode in the textbook/slides. You can use the tree structure shown above to extract the final path from your solution.\n",
        "\n",
        "__Notes:__\n",
        "* You can find maze solving implementations online that use the map to store information. While this is an effective idea for this two-dimensional navigation problem, it typically cannot be used for other search problems. Therefore, follow the textbook and only store information in the tree created during search, and use the `reached` and `frontier` data structures.\n",
        "* DSF can be implemented using the BFS tree search algorithm and simply changing the order in which the frontier is expanded (this is equivalent to best-first search with path length as the criterion to expand the next node). However, to take advantage of the significantly smaller memory footprint of DFS, you need to implement DFS in a different way without a `reached` data structure and by releasing the memory for nodes that are not needed anymore.\n",
        "* If DFS does not use a `reached` data structure, then its cycle checking abilities are limited. Remember, that DSF is incomplete if cycles cannot be prevented. You will see in your experiments that open spaces are a problem."
      ]
    },
    {
      "cell_type": "code",
      "execution_count": 77,
      "metadata": {
        "id": "yVYHnm2fyqTx"
      },
      "outputs": [],
      "source": [
        "# Your code goes here\n",
        "from queue import Queue\n",
        "\n",
        "def BFS(maze):\n",
        "  #initialize root node\n",
        "  node = Node(mh.find_pos(maze, what = \"S\"), None, None, 0)\n",
        "  #if S is at same location as G, return root node\n",
        "  goal = mh.find_pos(maze, what = \"G\")\n",
        "  if goal == mh.find_pos(maze, what = \"S\"):\n",
        "    return node\n",
        "  #initialize queue with root node in it\n",
        "  frontier = Queue()\n",
        "  frontier.put(node)\n",
        "  #initialize reached list to keep track of which spaces have been visited\n",
        "  reached = [mh.find_pos(maze, what = \"S\")]\n",
        "\n",
        "  #loop through frontier to find goal\n",
        "  while not frontier.empty():\n",
        "    #pop from queue\n",
        "    node = frontier.get()\n",
        "    #loop through the node's expanded children and search for goal\n",
        "    for child in Expand(maze, node):\n",
        "      #get state\n",
        "      s = child.pos\n",
        "      #check goal\n",
        "      if goal == s:\n",
        "        return child\n",
        "      #append to reached and frontier\n",
        "      if s not in reached:\n",
        "        reached.append(s)\n",
        "        frontier.put(child)\n",
        "\n",
        "  return None\n",
        "\n",
        "def DFS(maze):\n",
        "  #initialize root node\n",
        "  source = Node(mh.find_pos(maze, what = \"S\"), None, None, 0)\n",
        "  #if S is at same location as G, return root node\n",
        "  goal = mh.find_pos(maze, what = \"G\")\n",
        "  if goal == mh.find_pos(maze, what = \"S\"):\n",
        "    return node\n",
        "  #initialize stack with root node in it\n",
        "  frontier = [source]\n",
        "\n",
        "  #initialize reached list to keep track of which spaces have been visited\n",
        "  # reached = [mh.find_pos(maze, what = \"S\")]\n",
        "\n",
        "  #loop through frontier to find goal\n",
        "  while frontier:\n",
        "    #pop from queue\n",
        "    node = frontier.pop()\n",
        "    # print(f\"pop = {node}\")\n",
        "    #loop through the node's expanded children and search for goal\n",
        "    for child in Expand(maze, node):\n",
        "      #get state\n",
        "      s = child.pos\n",
        "      #check goal\n",
        "      if goal == s:\n",
        "        return child\n",
        "      #append to frontier\n",
        "      # print(f\"child: {child}\")\n",
        "      # print(f\"parent: {child.parent}\")\n",
        "      if s not in frontier:\n",
        "        frontier.append(child)\n",
        "        if source.pos == s:\n",
        "          return None\n",
        "\n",
        "  return None\n",
        "\n",
        "def Expand(maze, node):\n",
        "  #starting state\n",
        "  s = node.pos\n",
        "  #determine cost\n",
        "  cost = node.cost + 1\n",
        "\n",
        "  #moving left\n",
        "  if mh.look(maze, (s[0] - 1, s[1])) != 'X':\n",
        "    #create expanded node and yield\n",
        "    if node.parent:\n",
        "      if (s[0] - 1, s[1]) != node.parent.pos:\n",
        "        yield Node((s[0] - 1, s[1]), node, \"move up\", cost)\n",
        "    else:\n",
        "      yield Node((s[0] - 1, s[1]), node, \"move up\", cost)\n",
        "  #moving up\n",
        "  if mh.look(maze, (s[0], s[1] + 1)) != 'X':\n",
        "    #create expanded node and yield\n",
        "    if node.parent:\n",
        "      if (s[0], s[1] + 1) != node.parent.pos:\n",
        "        yield Node((s[0], s[1] + 1), node, \"move right\", cost)\n",
        "    else:\n",
        "      yield Node((s[0], s[1] + 1), node, \"move right\", cost)\n",
        "  #moving right\n",
        "  if mh.look(maze, (s[0] + 1, s[1])) != 'X':\n",
        "    #create expanded node and yield\n",
        "    if node.parent:\n",
        "      if (s[0] + 1, s[1]) != node.parent.pos:\n",
        "        yield Node((s[0] + 1, s[1]), node, \"move down\", cost)\n",
        "    else:\n",
        "      yield Node((s[0] + 1, s[1]), node, \"move down\", cost)\n",
        "  #moving down\n",
        "  if mh.look(maze, (s[0], s[1] - 1)) != 'X':\n",
        "    #create expanded node and yield\n",
        "    if node.parent:\n",
        "      if (s[0], s[1] - 1) != node.parent.pos:\n",
        "        yield Node((s[0], s[1] - 1), node, \"move left\", cost)\n",
        "    else:\n",
        "      yield Node((s[0], s[1] - 1), node, \"move left\", cost)\n",
        "\n",
        "\n",
        "# solution = BFS(maze)\n",
        "# solution = DFS(maze)\n",
        "# if solution:\n",
        "#   path = solution.get_path_from_root()\n",
        "#   for node in path:\n",
        "#     print(node)\n",
        "# else:\n",
        "#   print(\"failed\")\n",
        "\n",
        "# mh.show_maze(maze)\n"
      ]
    },
    {
      "cell_type": "markdown",
      "metadata": {
        "id": "69oQe0UByqTx"
      },
      "source": [
        "How does BFS and DFS deal with loops (cycles)?"
      ]
    },
    {
      "cell_type": "code",
      "execution_count": null,
      "metadata": {
        "id": "YyjDZGuuyqTx"
      },
      "outputs": [],
      "source": [
        "# Discussion\n",
        "'''\n",
        "BFS will never be stuck in a loop since it expands all the nodes at the deepest\n",
        "depth and all the nodes will only be expanded once. All nodes are also being\n",
        "tracked if they are already visited by the reached data structure\n",
        "\n",
        "As for DFS, since nodes are not being tracked if they are visited, you can only\n",
        "keep track of the source node and during expanding the node, if the source node\n",
        "is visited again, then we exit the search and return a failure. Visiting the\n",
        "source node again would indicate a loop.\n",
        "'''"
      ]
    },
    {
      "cell_type": "markdown",
      "metadata": {
        "id": "x4dtf7i7yqTx"
      },
      "source": [
        "Are your implementations complete and optimal? Explain why. What is the time and space complexity of each of **your** implementations?"
      ]
    },
    {
      "cell_type": "code",
      "execution_count": null,
      "metadata": {
        "id": "O_IWPUSqyqTx"
      },
      "outputs": [],
      "source": [
        "# Discussion\n",
        "'''\n",
        "My BFS implementation is complete because every space is visited at most once\n",
        "and the deepest depth of the tree is fully explored before going to the next\n",
        "depth. This ensures completeness by exploring one space ahead of the current\n",
        "deepest depth and only go to the next depth until the whole depth is exlored.\n",
        "If all the spaces are explored and the goal is not reached, then no node is\n",
        "returned to indicate failure. BFS is optimal because it return the first goal\n",
        "node found and this goal node should be the optimal path since all path cost is\n",
        "1. The space complexity is O(4^d) where 4 is the maximum branching factor and d\n",
        "is the depth of the optimal solution. The time complexity is also O(4^d) because\n",
        "it will visit O(4^d) nodes and only visit all nodes until depth d.\n",
        "The function Expand() is O(1) as it checks for if an action is valid and perform\n",
        "it.\n",
        "\n",
        "My DFS is incomplete because it can run into a loop and terminate in failure. It\n",
        "is not optimal because it finds the \"leftmost\" solution. It uses the same\n",
        "Expand() function as BFS. Space complexity is O(4m) where m is the maximum depth\n",
        "and 4 is the maximum branching factor. Only neighbors of path are stored in stack.\n",
        "Time complexity is O(4^m) because it could traverse the whole tree and can visit\n",
        "a node more than once.\n",
        "'''"
      ]
    },
    {
      "cell_type": "markdown",
      "metadata": {
        "id": "1ASjahCxyqTx"
      },
      "source": [
        "## Task 3: Informed search: Implement greedy best-first search and A* search  [20 Points]\n",
        "\n",
        "You can use the map to estimate the distance from your current position to the goal using the Manhattan distance (see https://en.wikipedia.org/wiki/Taxicab_geometry) as a heuristic function. Both algorithms are based on Best-First search which requires only a small change from the BFS algorithm you have already implemented (see textbook/slides)."
      ]
    },
    {
      "cell_type": "code",
      "execution_count": 118,
      "metadata": {
        "id": "DLXpnC6vyqTx",
        "colab": {
          "base_uri": "https://localhost:8080/",
          "height": 807
        },
        "outputId": "4ff8e754-7601-4915-aeaf-3160230c3bdc"
      },
      "outputs": [
        {
          "output_type": "stream",
          "name": "stdout",
          "text": [
            "Node - pos = (3, 11); action = None; cost = 0\n",
            "Node - pos = (3, 10); action = move left; cost = 1\n",
            "Node - pos = (3, 9); action = move left; cost = 2\n",
            "Node - pos = (3, 8); action = move left; cost = 3\n",
            "Node - pos = (3, 7); action = move left; cost = 4\n",
            "Node - pos = (3, 6); action = move left; cost = 5\n",
            "Node - pos = (4, 6); action = move down; cost = 6\n",
            "Node - pos = (5, 6); action = move down; cost = 7\n",
            "Node - pos = (6, 6); action = move down; cost = 8\n",
            "Node - pos = (6, 7); action = move right; cost = 9\n",
            "Node - pos = (6, 8); action = move right; cost = 10\n",
            "Node - pos = (5, 8); action = move up; cost = 11\n",
            "Node - pos = (5, 9); action = move right; cost = 12\n",
            "Node - pos = (5, 10); action = move right; cost = 13\n",
            "Node - pos = (5, 11); action = move right; cost = 14\n",
            "Node - pos = (5, 12); action = move right; cost = 15\n",
            "Node - pos = (6, 12); action = move down; cost = 16\n",
            "Node - pos = (7, 12); action = move down; cost = 17\n",
            "Node - pos = (7, 11); action = move left; cost = 18\n",
            "Node - pos = (7, 10); action = move left; cost = 19\n",
            "Node - pos = (8, 10); action = move down; cost = 20\n",
            "Node - pos = (8, 9); action = move left; cost = 21\n",
            "Node - pos = (8, 8); action = move left; cost = 22\n",
            "Node - pos = (8, 7); action = move left; cost = 23\n",
            "Node - pos = (8, 6); action = move left; cost = 24\n",
            "Node - pos = (8, 5); action = move left; cost = 25\n",
            "Node - pos = (8, 4); action = move left; cost = 26\n",
            "Node - pos = (8, 3); action = move left; cost = 27\n",
            "Node - pos = (8, 2); action = move left; cost = 28\n",
            "Node - pos = (8, 1); action = move left; cost = 29\n"
          ]
        },
        {
          "output_type": "display_data",
          "data": {
            "text/plain": [
              "<Figure size 640x480 with 1 Axes>"
            ],
            "image/png": "[encoded data removed]"
          },
          "metadata": {
            "image/png": {
              "width": 534,
              "height": 269
            }
          }
        }
      ],
      "source": [
        "# Your code goes here\n",
        "from queue import PriorityQueue\n",
        "\n",
        "def GBFS(maze):\n",
        "  #initialize root node\n",
        "  node = Node(mh.find_pos(maze, what = \"S\"), None, None, 0)\n",
        "  #if S is at same location as G, return root node\n",
        "  goal = mh.find_pos(maze, what = \"G\")\n",
        "  if goal == mh.find_pos(maze, what = \"S\"):\n",
        "    return node\n",
        "  #initialize queue with root node in it\n",
        "  frontier = PriorityQueue()\n",
        "  frontier.put((node.h(goal), node))\n",
        "  #initialize reached list to keep track of which spaces have been visited\n",
        "  reached = [mh.find_pos(maze, what = \"S\")]\n",
        "\n",
        "  #loop through frontier to find goal\n",
        "  while not frontier.empty():\n",
        "    #pop from queue\n",
        "    heuristic, node = frontier.get()\n",
        "    # print(node)\n",
        "    #loop through the node's expanded children and search for goal\n",
        "    for child in Expand(maze, node):\n",
        "      #get state\n",
        "      s = child.pos\n",
        "      #check goal\n",
        "      if goal == s:\n",
        "        return child\n",
        "      #append to reached and frontier\n",
        "      if s not in reached:\n",
        "        reached.append(s)\n",
        "        # print(child)\n",
        "        frontier.put((child.h(goal), child))\n",
        "        # print((child.h(goal), child))\n",
        "        # print(goal)\n",
        "\n",
        "  return None\n",
        "\n",
        "solution = GBFS(maze)\n",
        "if solution:\n",
        "  path = solution.get_path_from_root()\n",
        "  for node in path:\n",
        "    print(node)\n",
        "else:\n",
        "  print(\"failed\")\n",
        "\n",
        "mh.show_maze(maze)\n"
      ]
    },
    {
      "cell_type": "markdown",
      "metadata": {
        "id": "-3umD-OKyqTy"
      },
      "source": [
        "Are your implementations complete and optimal? What is the time and space complexity?"
      ]
    },
    {
      "cell_type": "code",
      "execution_count": null,
      "metadata": {
        "id": "4GBCeCtbyqTy"
      },
      "outputs": [],
      "source": [
        "# Discussion"
      ]
    },
    {
      "cell_type": "markdown",
      "metadata": {
        "id": "tCT-Ms86yqTy"
      },
      "source": [
        "## Task 4: Comparison and discussion [20 Points]\n",
        "\n",
        "Run experiments to compare the implemented algorithms.\n",
        "\n",
        "How to deal with issues:\n",
        "\n",
        "* Your implementation returns unexpected results: Try to debug and fix the code. Visualizing the maze, the current path and the frontier after every step is very helpful. If the code still does not work, then mark the result with an asterisk (*) and describe the issue below the table.\n",
        "\n",
        "* Your implementation cannot consistently solve a specific maze and ends up in an infinite loop:\n",
        "    Debug. If it is a shortcoming of the algorithm/implementation, then put \"N/A*\" in the results table and describe why this is happening."
      ]
    },
    {
      "cell_type": "code",
      "execution_count": null,
      "metadata": {
        "id": "9MF4fT2xyqTy"
      },
      "outputs": [],
      "source": [
        "# Add code"
      ]
    },
    {
      "cell_type": "markdown",
      "metadata": {
        "id": "ayBZs63ZyqTy"
      },
      "source": [
        "Complete the following table for each maze.\n",
        "\n",
        "__Small maze__\n",
        "\n",
        "| algorithm | path cost | # of nodes expanded | max tree depth | max # of nodes in memory | max frontier size |\n",
        "|-----------|-----------|----------------|----------------|---------------|-------------------|\n",
        "| BFS       |           |                |                |               |                   |\n",
        "| DFS       |           |                |                |               |                   |\n",
        "| GBS       |           |                |                |               |                   |\n",
        "| A*        |           |                |                |               |                   |\n",
        "\n",
        "__Medium Maze__\n",
        "\n",
        "..."
      ]
    },
    {
      "cell_type": "markdown",
      "metadata": {
        "id": "EaE1X8CiyqTy"
      },
      "source": [
        "Present the results as using charts (see [Python Code Examples/charts and tables](../HOWTOs/charts_and_tables.ipynb))."
      ]
    },
    {
      "cell_type": "code",
      "execution_count": null,
      "metadata": {
        "id": "Ow5J_4FKyqT2"
      },
      "outputs": [],
      "source": [
        "# Add charts"
      ]
    },
    {
      "cell_type": "markdown",
      "metadata": {
        "id": "dxLjIqCPyqT2"
      },
      "source": [
        "Discuss the most important lessons you have learned from implementing the different search strategies."
      ]
    },
    {
      "cell_type": "markdown",
      "source": [],
      "metadata": {
        "id": "KYNjPu4iy_v6"
      }
    },
    {
      "cell_type": "code",
      "execution_count": null,
      "metadata": {
        "id": "n_UU9wW-yqT2"
      },
      "outputs": [],
      "source": [
        "# Add discussion"
      ]
    },
    {
      "cell_type": "markdown",
      "source": [
        "---\n",
        "Assignment adapted from [Michael Hahsler](https://github.com/mhahsler/CS7320-AI) under [CC BY-SA](https://creativecommons.org/licenses/by-sa/4.0/deed.en) license."
      ],
      "metadata": {
        "id": "fxLwRFFwy-bS"
      }
    }
  ],
  "metadata": {
    "kernelspec": {
      "display_name": "Python 3 (ipykernel)",
      "language": "python",
      "name": "python3"
    },
    "language_info": {
      "codemirror_mode": {
        "name": "ipython",
        "version": 3
      },
      "file_extension": ".py",
      "mimetype": "text/x-python",
      "name": "python",
      "nbconvert_exporter": "python",
      "pygments_lexer": "ipython3",
      "version": "3.10.12"
    },
    "colab": {
      "provenance": [],
      "include_colab_link": true
    }
  },
  "nbformat": 4,
  "nbformat_minor": 0
}