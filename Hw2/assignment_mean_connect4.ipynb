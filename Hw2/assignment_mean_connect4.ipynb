{
  "cells": [
    {
      "cell_type": "markdown",
      "metadata": {
        "id": "view-in-github",
        "colab_type": "text"
      },
      "source": [
        "<a href=\"https://colab.research.google.com/github/Shawn1303/Artificial-Intelligence/blob/main/Hw2/assignment_mean_connect4.ipynb\" target=\"_parent\"><img src=\"https://colab.research.google.com/assets/colab-badge.svg\" alt=\"Open In Colab\"/></a>"
      ]
    },
    {
      "cell_type": "markdown",
      "metadata": {
        "id": "WyISr3c6L8cY"
      },
      "source": [
        "# Adversarial Search: Playing \"Mean\" Connect 4\n",
        "\n",
        "\n",
        "## Instructions\n",
        "\n",
        "All student names in group: Shawn Zhu, Benson Chen\n",
        "\n",
        "I understand that my submission needs to be my own group's work: SZ, BC\n",
        "\n",
        "I understand that ChatGPT / Copilot / other AI tools are not allowed: SZ, BC\n",
        "\n",
        "Points: 10\n",
        "\n",
        "Complete this notebook and submit it (save/print as pdf). The notebook needs to be a complete project report with your implementation, documentation including a short discussion of how your implementation works and your design choices, and experimental results (e.g., tables and charts with simulation results) with a short discussion of what they mean. Use the provided notebook cells and insert additional code and markdown cells as needed.\n",
        "\n",
        "## Introduction\n",
        "\n",
        "You will implement different versions of agents that play \"Mean\" Connect 4:\n",
        "\n",
        "> \"Connect 4 is a two-player connection board game, in which the players choose a color and then take turns dropping colored discs into a seven-column, six-row vertically suspended grid. The pieces fall straight down, occupying the lowest available space within the column. The objective of the game is to be the first to form a horizontal, vertical, or diagonal line of four of one's own discs.\" (see [Connect Four on Wikipedia](https://en.wikipedia.org/wiki/Connect_Four))\n",
        "\n",
        "> **The mean part:** This game has an additional rule. Every time it is a player's turn, the player can decide to instead of playing a new disk, take a bottom row disk of the opponent and place it back in the top of the same column. All disks above the removed disk will fall down one position and the removed one will be placed on top. Note that a player can only move an _opponent's disc_ that is in the _bottom row_ of the board. **Further, you are not allowed to play a mean move if your opponent just played one.** This ensures the game will end at some point. This also may affect the definition of a state, compared with standard Connect 4.\n",
        "\n",
        "If a mean move causes both players to win, the game immediately ends and it is a tie, even if one player has more connect-4s than the other one. If a mean move causes one player to win, then the game also ends and the player with the connect-4 is the winner.\n",
        "\n",
        "Note that normal [Connect-4 has been solved](https://en.wikipedia.org/wiki/Connect_Four#Mathematical_solution)\n",
        "in 1988. A connect-4 solver with a discussion of how to solve different parts of the problem can be found here: https://connect4.gamesolver.org/en/"
      ]
    },
    {
      "cell_type": "markdown",
      "metadata": {
        "id": "zuWbcK6gL8cZ"
      },
      "source": [
        "## Task 1: Defining the Search Problem [1 point]\n",
        "\n",
        "Define the components of the search problem associated with this game:\n",
        "\n",
        "* Initial state\n",
        "* Actions\n",
        "* Transition model\n",
        "* Test for the terminal state\n",
        "* Utility for terminal states"
      ]
    },
    {
      "cell_type": "code",
      "execution_count": null,
      "metadata": {
        "id": "uzLitKOdL8cf"
      },
      "outputs": [],
      "source": [
        "# Your code/answer goes here.\n",
        "'''\n",
        "Initial State = m x n grid all empty or with some cell already containing a\n",
        "colored disc. State keeps track if a mean move has been played.\n",
        "\n",
        "Actions: drop a colored disc corresponding to the player down the nth column or\n",
        "the mean move where you take a bottom row disk of the opponent and place it back\n",
        "in the top of the same column. Mean move cannot be used if previous player used\n",
        "it.\n",
        "\n",
        "Transition model: Apply an action and on the grid array, all the values on that\n",
        "column is updated to either 1 or -1 to match the positions of the colored discs.\n",
        "If only dropping a colored disc, only the top most value in that column that is\n",
        "0 will be updated to 1 or -1. If a disc was removed from the bottom and placed\n",
        "on top, then the whole column is updated according to the colored discs positions\n",
        "since all the discs above the removed disc will sink down. Returns the state of\n",
        "the grid after dropping or removing a colored disc and keep track of if action\n",
        "is a mean move.\n",
        "\n",
        "Test for the terminal state: Check if there is a horizontal, vertical, or\n",
        "diagonal line of four of one's own discs by either counting the whole grid or\n",
        "count from where the dropped disc is if the move applied isn't a mean move.\n",
        "Check if grid is full, then it is a tie.\n",
        "\n",
        "Utility for terminal states: return board 1.5 * rows * col - moves\n",
        "'''"
      ]
    },
    {
      "cell_type": "markdown",
      "metadata": {
        "id": "cHDORt8_L8cg"
      },
      "source": [
        "How big is the state space? Give an estimate and explain it."
      ]
    },
    {
      "cell_type": "code",
      "execution_count": null,
      "metadata": {
        "id": "D_GIsO80L8cg"
      },
      "outputs": [],
      "source": [
        "# Your code/ answer goes here.\n",
        "'''\n",
        "State Space = 2^(m * n + 1)\n",
        "\n",
        "The grid is m rows by n columns. There is 2 possible colored discs at each cell.\n",
        "So there is 2^(m * n) possible states for which the colored discs can be in the\n",
        "grid cells. We want to multiply that by 2 because we want to keep track of\n",
        "whether the move applied is a mean move or a normal move due to the additional\n",
        "rule.\n",
        "'''"
      ]
    },
    {
      "cell_type": "markdown",
      "metadata": {
        "id": "7ci9AS2QL8ch"
      },
      "source": [
        "How big is the game tree that minimax search will go through? Give an estimate and explain it."
      ]
    },
    {
      "cell_type": "code",
      "execution_count": null,
      "metadata": {
        "id": "iTkWu4ZiL8ci"
      },
      "outputs": [],
      "source": [
        "# Your code/ answer goes here.\n",
        "'''\n",
        "One node has a max branch factor of 2n because you can choose to either drop a\n",
        "colored disc at the nth column or remove the other player's colored disc and\n",
        "drop it in the same column. The game tree can have a max depth of 2 * m * n\n",
        "because to fill up the whole grid, the total moves needed is m * n. If any mean\n",
        "move were made, it doesn't increase the total number of discs in the grid and\n",
        "you can't make a consecutive mean move, so the maximum number of moves that can\n",
        "be made is 2 * m * n. The tree would have a max depth of 2 * m * n with a max\n",
        "branch factor of 2n.\n",
        "'''"
      ]
    },
    {
      "cell_type": "markdown",
      "metadata": {
        "id": "u66LNfUEL8ci"
      },
      "source": [
        "## Task 2: Game Environment and Random Agent [3 point]\n",
        "\n",
        "You can use a numpy character array as the board. Note that the following function can create boards of different sizes."
      ]
    },
    {
      "cell_type": "code",
      "execution_count": 5,
      "metadata": {
        "id": "gFoRCZefL8cj",
        "outputId": "be8c7d85-8f24-4a65-96c6-d601c57bd558",
        "colab": {
          "base_uri": "https://localhost:8080/"
        }
      },
      "outputs": [
        {
          "output_type": "stream",
          "name": "stdout",
          "text": [
            "[[0 0 0 0 0 0 0]\n",
            " [0 0 0 0 0 0 0]\n",
            " [0 0 0 0 0 0 0]\n",
            " [0 0 0 0 0 0 0]\n",
            " [0 0 0 0 0 0 0]\n",
            " [0 0 0 0 0 0 0]]\n"
          ]
        }
      ],
      "source": [
        "import numpy as np\n",
        "\n",
        "def empty_board(shape=(6, 7)):\n",
        "    return np.full(shape=shape, fill_value=0)\n",
        "\n",
        "print(empty_board())"
      ]
    },
    {
      "cell_type": "markdown",
      "metadata": {
        "id": "GCCwVya8L8cj"
      },
      "source": [
        "Instead of colors (red and yellow), you can use 1 and -1 to represent the players Max and Min. Make sure that your agent functions all have the from: `agent_type(state, player = 1)`, where board is the current board position and player is the player (1, -1) whose next move it is and who the agent should play."
      ]
    },
    {
      "cell_type": "markdown",
      "metadata": {
        "id": "DtsGKQPsL8ck"
      },
      "source": [
        "Visualization code by Randolph Rankin:"
      ]
    },
    {
      "cell_type": "code",
      "execution_count": 4,
      "metadata": {
        "scrolled": true,
        "id": "dRChZkdZL8ck",
        "outputId": "78ee0a5e-3d85-4a86-e2a1-13c7c2f5cc3d",
        "colab": {
          "base_uri": "https://localhost:8080/",
          "height": 430
        }
      },
      "outputs": [
        {
          "output_type": "display_data",
          "data": {
            "text/plain": [
              "<Figure size 640x480 with 1 Axes>"
            ],
            "image/png": "[encoded data removed]"
          },
          "metadata": {}
        }
      ],
      "source": [
        "import matplotlib.pyplot as plt\n",
        "\n",
        "def visualize(board):\n",
        "    plt.axes()\n",
        "    rectangle=plt.Rectangle((-0.5,len(board)*-1+0.5),len(board[0]),len(board),fc='blue')\n",
        "    circles=[]\n",
        "    for i,row in enumerate(board):\n",
        "        for j,val in enumerate(row):\n",
        "            color='white' if val==0 else 'red' if val==1 else 'yellow'\n",
        "            circles.append(plt.Circle((j,i*-1),0.4,fc=color))\n",
        "\n",
        "    plt.gca().add_patch(rectangle)\n",
        "    for circle in circles:\n",
        "        plt.gca().add_patch(circle)\n",
        "\n",
        "    plt.axis('scaled')\n",
        "    plt.show()\n",
        "\n",
        "board = [[0, 0, 0, 0, 0, 0, 0],\n",
        "         [0, 0, 0, 0, 0, 0, 0],\n",
        "         [0, 0, 0, 0, 0, 0, 0],\n",
        "         [0, 0, 0, 1, 0, 0, 0],\n",
        "         [0, 0, 0, 1, 0, 0, 0],\n",
        "         [0,-1,-1, 1,-1, 0, 0]]\n",
        "\n",
        "visualize(board)"
      ]
    },
    {
      "cell_type": "markdown",
      "metadata": {
        "id": "ZOa_fihRL8ck"
      },
      "source": [
        "Implement helper functions for:\n",
        "\n",
        "* The transition model $result(s, a)$.\n",
        "* The utility function $utility(s)$.\n",
        "* Check for terminal states $terminal(s)$.\n",
        "* A check for available actions in each state $actions(s)$.\n",
        "\n",
        "Make sure that all these functions work with boards of different sizes (number of columns and rows)."
      ]
    },
    {
      "cell_type": "code",
      "execution_count": 110,
      "metadata": {
        "id": "8sDMBWFtL8ck"
      },
      "outputs": [],
      "source": [
        "# Your code/ answer goes here.\n",
        "# s = state that has (board:[][], mean:Bool, move:Tuple(x,y))\n",
        "# mean is boolean, True if mean move played or else False\n",
        "# Move is a tuple (x,y) of last move played\n",
        "\n",
        "# action a = (mean:Bool, move:Tuple(x,y), player:(1,-1))\n",
        "\n",
        "import copy\n",
        "\n",
        "def result(s, a):\n",
        "  # state = (s[0].copy(), s[1],)\n",
        "  board = copy.deepcopy(s[0])\n",
        "  move = a[1]\n",
        "  player = a[2]\n",
        "  if a[0]:\n",
        "    # move bottom disc to top and move all discs down\n",
        "    row = move[0]\n",
        "    col = move[1]\n",
        "    temp = board[row][col]\n",
        "    row -= 1\n",
        "    curr = board[row][col]\n",
        "    while curr != 0 and row >= 0:\n",
        "      board[row + 1][col] = curr\n",
        "      row -= 1\n",
        "      curr = board[row][col]\n",
        "    board[row + 1][col] = temp\n",
        "    move = (row + 1, col)\n",
        "\n",
        "  else:\n",
        "    # set disc to top of col\n",
        "    board[move[0]][move[1]] = player\n",
        "\n",
        "  return (board, a[0], move)\n",
        "\n",
        "def terminal(s):\n",
        "  # s.mean\n",
        "  move = s[2]\n",
        "  board = s[0]\n",
        "  if s[1]:\n",
        "    # if mean move, apply checkConnect4 to all elements in that col\n",
        "    # s.move\n",
        "    row = move[0]\n",
        "    col = move[1]\n",
        "    # s.board\n",
        "    while row <= len(board)-1:\n",
        "      if checkConnect4(row, col, s):\n",
        "        return True\n",
        "      row += 1\n",
        "    # if all filled, return True\n",
        "    # return np.all(board != 0)\n",
        "    return all(all(val != 0 for val in row) for row in board)\n",
        "\n",
        "  # if !checkConnect4(move[0], move[1], s):\n",
        "  #   return np.all(board != 0)\n",
        "\n",
        "  return checkConnect4(move[0], move[1], s)\n",
        "\n",
        "def checkConnect4(x, y, s):\n",
        "  # check vertical, horizontal and diagonal\n",
        "  board = s[0]\n",
        "  row = x + 1\n",
        "  col = y\n",
        "  # checks vertical downward if four in a col\n",
        "  count = 1\n",
        "  while row <= len(board)-1:\n",
        "    if board[row][col] == board[x][y]:\n",
        "      count += 1\n",
        "      row += 1\n",
        "      if count == 4:\n",
        "        return True\n",
        "    else:\n",
        "      break;\n",
        "# -----------------------------------------------------------------------------\n",
        "  # checks diagonally left down\n",
        "  row = x + 1\n",
        "  col -= 1\n",
        "  count = 1\n",
        "  while row <= len(board)-1 and col >= 0:\n",
        "    if board[row][col] == board[x][y]:\n",
        "      count += 1\n",
        "      row += 1\n",
        "      col -= 1\n",
        "      if count == 4:\n",
        "        return True\n",
        "    else:\n",
        "      break;\n",
        "  # checks diagonally right up, keep same count\n",
        "  row = x - 1\n",
        "  col = y + 1\n",
        "  while row >= 0 and col <= len(board[0])-1:\n",
        "    if board[row][col] == board[x][y]:\n",
        "      count += 1\n",
        "      row -= 1\n",
        "      col += 1\n",
        "      if count == 4:\n",
        "        return True\n",
        "    else:\n",
        "      break;\n",
        "  # checks diagonally right down\n",
        "  row = x + 1\n",
        "  col = y + 1\n",
        "  count = 1\n",
        "  while row <= len(board)-1 and col <= len(board[0])-1:\n",
        "    if board[row][col] == board[x][y]:\n",
        "      count += 1\n",
        "      row += 1\n",
        "      col += 1\n",
        "      if count == 4:\n",
        "        return True\n",
        "    else:\n",
        "      break;\n",
        "  # checks diagonally left up, keep same count\n",
        "  row = x - 1\n",
        "  col = y - 1\n",
        "  while row >= 0 and col >= 0:\n",
        "    if board[row][col] == board[x][y]:\n",
        "      count += 1\n",
        "      row -= 1\n",
        "      col -= 1\n",
        "      if count == 4:\n",
        "        return True\n",
        "    else:\n",
        "      break;\n",
        "# -----------------------------------------------------------------------\n",
        "  # check horizontally left\n",
        "  row = x\n",
        "  col = y - 1\n",
        "  count = 1\n",
        "  while col >= 0:\n",
        "    if board[row][col] == board[x][y]:\n",
        "      count += 1\n",
        "      col -= 1\n",
        "      if count == 4:\n",
        "        return True\n",
        "    else:\n",
        "      break;\n",
        "\n",
        "  col = y + 1\n",
        "  # check horizontally right\n",
        "  while col <= len(board[0])-1:\n",
        "    if board[row][col] == board[x][y]:\n",
        "      count += 1\n",
        "      col += 1\n",
        "      if count == 4:\n",
        "        return True\n",
        "    else:\n",
        "      break;\n",
        "\n",
        "  return False\n",
        "\n",
        "def actions(s):\n",
        "    board = s[0]\n",
        "    move = s[2]\n",
        "    if move is None:\n",
        "      player = 1\n",
        "    else:\n",
        "      player = -board[move[0]][move[1]]\n",
        "    actionsList = []\n",
        "\n",
        "    for j, col in enumerate(board[0]):\n",
        "      row = len(board)-1\n",
        "      while board[row][j] != 0 and row >= 0:\n",
        "        row -= 1\n",
        "      if row >= 0:\n",
        "        actionsList.append((False, (row, j), player))\n",
        "\n",
        "    # if last move isn't mean move\n",
        "    if not s[1]:\n",
        "      for j, col in enumerate(board[len(board)-1]):\n",
        "        if col == -player:\n",
        "          actionsList.append((True, (len(board)-1, j), player))\n",
        "\n",
        "    return actionsList\n",
        "\n",
        "def utility(s):\n",
        "  board = s[0]\n",
        "  total_moves = sum(1 for row in board for element in row if element != 0)\n",
        "  d = len(board) * len(board[0])\n",
        "  move = s[2]\n",
        "\n",
        "  # if tie\n",
        "  if all(all(val != 0 for val in row) for row in board):\n",
        "    return 0\n",
        "  # if mean move applied\n",
        "  winner = None\n",
        "  if s[1]:\n",
        "    row = move[0]\n",
        "    col = move[1]\n",
        "    while row <= len(board)-1:\n",
        "      if checkConnect4(row, col, s):\n",
        "        if winner is None:\n",
        "          winner = board[row][col]\n",
        "        if board[row][col] != winner:\n",
        "          return 0\n",
        "      row += 1\n",
        "  else:\n",
        "    winner = board[move[0]][move[1]]\n",
        "  # return positive of first player won\n",
        "  # else return negative\n",
        "  if winner == 1:\n",
        "    return 1.5 * d - total_moves\n",
        "  else:\n",
        "    return -(1.5 * d - total_moves)\n"
      ]
    },
    {
      "cell_type": "code",
      "source": [
        "# board = [[1, -1, 1, 1, 1, -1, 1],\n",
        "#          [-1, 1, 1, -1, 1, 1, -1],\n",
        "#          [1, -1, -1, 1, -1, -1, 1],\n",
        "#          [-1, 1, 1, -1, -1, 1, -1],\n",
        "#          [1, -1, -1, 1, 1, -1, 1],\n",
        "#          [-1,-1,1, -1,-1, 1, 1]]\n",
        "# visualize(board)\n",
        "# s = (board, True, (0,3))\n",
        "# print(terminal(s))\n",
        "board = [[0, 0, 0, 0, 0, 0, 0],\n",
        "         [0, 0, 0, 0, 0, 0, 0],\n",
        "         [0, 0, 0, -1, 0, 0, 0],\n",
        "         [0, 0, 0, 1, -1, 0, 0],\n",
        "         [0, 0, 1, 1, 1, -1, 0],\n",
        "         [0,-1,-1, 1,-1, 1, -1]]\n",
        "\n",
        "board = [[0, 0, 0, 0, 0, 0, 0],\n",
        "         [0, 0, 0, 0, 0, 0, 0],\n",
        "         [0, 0, 0, 1, 0, 0, 0],\n",
        "         [0, 0, 0, 1, 0, 0, 0],\n",
        "         [0, 0, 0, 1, 0, 0, 0],\n",
        "         [0,-1,-1, 1,-1, 0, 0]]\n",
        "visualize(board)\n",
        "s = (board, False, (2,3))\n",
        "# print(actions(s))\n",
        "# for a in actions(s):\n",
        "#   visualize(result(s, a)[0])\n",
        "print(utility(s))\n"
      ],
      "metadata": {
        "colab": {
          "base_uri": "https://localhost:8080/",
          "height": 482
        },
        "id": "cLVIc-2jhO8z",
        "outputId": "6d76eb2d-e64c-46ab-e2b2-590b37116e83"
      },
      "execution_count": 98,
      "outputs": [
        {
          "output_type": "display_data",
          "data": {
            "text/plain": [
              "<Figure size 640x480 with 1 Axes>"
            ],
            "image/png": "[encoded data removed]"
          },
          "metadata": {}
        },
        {
          "output_type": "stream",
          "name": "stdout",
          "text": [
            "42\n",
            "7\n",
            "56.0\n"
          ]
        }
      ]
    },
    {
      "cell_type": "markdown",
      "metadata": {
        "id": "8T7SYQM4L8cl"
      },
      "source": [
        "Implement an agent that plays randomly. Make sure the agent function receives as the percept the game state and returns a valid action. Use an agent function definition with the following signature (arguments):\n",
        "\n",
        "`def random_player(state, player = None): ...`\n",
        "\n",
        "The argument `player` is used for agents that do not store what side they are playing. The value passed on by the environment should be 1 ot -1 for playerred and yellow, respectively.  See [Experiments section for tic-tac-toe](https://nbviewer.org/github/mhahsler/CS7320-AI/blob/master/Games/tictactoe_and_or_tree_search.ipynb#Experiments) for an example."
      ]
    },
    {
      "cell_type": "code",
      "execution_count": 114,
      "metadata": {
        "id": "g0uUKNKNL8cl"
      },
      "outputs": [],
      "source": [
        "# Your code/ answer goes here.\n",
        "import random\n",
        "def random_player(s, player = None):\n",
        "  return random.choice(actions(s))"
      ]
    },
    {
      "cell_type": "markdown",
      "metadata": {
        "id": "rS3yOFlbL8cl"
      },
      "source": [
        "Let two random agents play against each other 1000 times. Look at the [Experiments section for tic-tac-toe](https://nbviewer.org/github/mhahsler/CS7320-AI/blob/master/Games/tictactoe_and_or_tree_search.ipynb#Experiments) to see how the environment uses the agent functions to play against each other.\n",
        "\n",
        "How often does each player win? Is the result expected?\n",
        "\n",
        "> {'red': 548, 'yellow': 418, 'tie': 34} is one of the results I got. After many runs, red wins more than yellow. I'd expect red to win more because the one who moves first has an advantage."
      ]
    },
    {
      "cell_type": "code",
      "execution_count": 116,
      "metadata": {
        "tags": [],
        "id": "55tvNH3vL8cl",
        "colab": {
          "base_uri": "https://localhost:8080/",
          "height": 34
        },
        "outputId": "a523a505-1109-4faf-b2f6-84a25546d31d"
      },
      "outputs": [
        {
          "output_type": "display_data",
          "data": {
            "text/plain": [
              "{'red': 564, 'yellow': 409, 'tie': 27}"
            ]
          },
          "metadata": {}
        }
      ],
      "source": [
        "# Your code/ answer goes here.\n",
        "def switch_player(player, red, yellow):\n",
        "    if player == 1:\n",
        "        return -1, yellow\n",
        "    else:\n",
        "        return 1, red\n",
        "\n",
        "def play(red, yellow, N = 1000):\n",
        "    results = {'red': 0, 'yellow': 0, 'tie': 0}\n",
        "\n",
        "    for i in range(N):\n",
        "        board = [[0, 0, 0, 0, 0, 0, 0],\n",
        "         [0, 0, 0, 0, 0, 0, 0],\n",
        "         [0, 0, 0, 0, 0, 0, 0],\n",
        "         [0, 0, 0, 0, 0, 0, 0],\n",
        "         [0, 0, 0, 0, 0, 0, 0],\n",
        "         [0, 0, 0, 0, 0, 0, 0]]\n",
        "        player, fun = 1, red\n",
        "        s = (board, False, None)\n",
        "        # visualize(board)\n",
        "\n",
        "        while True:\n",
        "            a = fun(s, player)\n",
        "            s = result(s, a)\n",
        "            # visualize(s[0])\n",
        "\n",
        "            terminate = terminal(s)\n",
        "            if terminate:\n",
        "                score = utility(s)\n",
        "                if score == 0:\n",
        "                  results['tie'] += 1\n",
        "                elif score > 0:\n",
        "                  results['red'] += 1\n",
        "                else:\n",
        "                  results['yellow'] += 1\n",
        "                break\n",
        "\n",
        "            player, fun = switch_player(player, red, yellow)\n",
        "\n",
        "    return results\n",
        "\n",
        "display(play(random_player, random_player, N=1000))"
      ]
    },
    {
      "cell_type": "markdown",
      "metadata": {
        "id": "DvzOxRDpL8cm"
      },
      "source": [
        "## Task 3: Minimax Search with Alpha-Beta Pruning [3 points]\n",
        "\n",
        "### Implement the search starting.\n",
        "\n",
        "Implement the search starting from a given state and specifying the player and put it into an agent function.\n",
        "You can use code from the [tic-tac-toe example](https://nbviewer.org/github/mhahsler/CS7320-AI/blob/master/Games/tictactoe_alpha_beta_tree_search.ipynb).\n",
        "\n",
        "__Notes:__\n",
        "* Make sure that all your agent functions have a signature consistent with the random agent above.\n",
        "* The search space for a $6 \\times 7$ board is large. You can experiment with smaller boards (the smallest is $4 \\times 4$) and/or changing the winning rule to connect 3 instead of 4."
      ]
    },
    {
      "cell_type": "code",
      "execution_count": null,
      "metadata": {
        "id": "GJ2xQLrWL8cm"
      },
      "outputs": [],
      "source": [
        "# Your code/ answer goes here.\n",
        "def player(s, player):\n",
        "  return action(s)"
      ]
    },
    {
      "cell_type": "markdown",
      "metadata": {
        "id": "XQeK9qFXL8cm"
      },
      "source": [
        "Experiment with some manually created boards (at least 5) to check if the agent spots winning opportunities."
      ]
    },
    {
      "cell_type": "code",
      "execution_count": null,
      "metadata": {
        "id": "ECcMh7WTL8cm"
      },
      "outputs": [],
      "source": [
        "# Your code/ answer goes here."
      ]
    },
    {
      "cell_type": "markdown",
      "metadata": {
        "id": "8ByI_b2VL8cm"
      },
      "source": [
        "How long does it take to make a move? Start with a smaller board with 4 columns and make the board larger by adding columns."
      ]
    },
    {
      "cell_type": "code",
      "execution_count": null,
      "metadata": {
        "id": "1kG2qLFIL8cm"
      },
      "outputs": [],
      "source": [
        "# Your code/ answer goes here."
      ]
    },
    {
      "cell_type": "markdown",
      "metadata": {
        "id": "XDHTe0LcL8cn"
      },
      "source": [
        "### Move ordering\n",
        "\n",
        "Starting the search with better moves will increase the efficiency of alpha-beta pruning. Describe and implement a simple move ordering strategy. Make a table that shows how the ordering strategies influence the time it takes to make a move."
      ]
    },
    {
      "cell_type": "code",
      "execution_count": null,
      "metadata": {
        "id": "omeYo7HyL8cn"
      },
      "outputs": [],
      "source": [
        "# Your code/ answer goes here."
      ]
    },
    {
      "cell_type": "markdown",
      "metadata": {
        "id": "n_ZJDd9nL8cn"
      },
      "source": [
        "### The first few moves\n",
        "\n",
        "Start with an empty board. This is the worst case scenario for minimax search with alpha-beta pruning since it needs solve all possible games that can be played (minus some pruning) before making the decision. What can you do?"
      ]
    },
    {
      "cell_type": "code",
      "execution_count": null,
      "metadata": {
        "id": "Ip9dbCRgL8cn"
      },
      "outputs": [],
      "source": [
        "# Your code/ answer goes here."
      ]
    },
    {
      "cell_type": "markdown",
      "metadata": {
        "id": "Uhk1YRnDL8cn"
      },
      "source": [
        "### Playtime\n",
        "\n",
        "Let the Minimax Search agent play a random agent on a small board. Analyze wins, losses and draws."
      ]
    },
    {
      "cell_type": "code",
      "execution_count": null,
      "metadata": {
        "id": "Kx1qffv2L8co"
      },
      "outputs": [],
      "source": [
        "# Your code/ answer goes here."
      ]
    },
    {
      "cell_type": "markdown",
      "metadata": {
        "id": "LXE2i58iL8co"
      },
      "source": [
        "## Task 4: Heuristic Alpha-Beta Tree Search [3 points]\n",
        "\n",
        "### Heuristic evaluation function\n",
        "\n",
        "Define and implement a heuristic evaluation function."
      ]
    },
    {
      "cell_type": "code",
      "execution_count": null,
      "metadata": {
        "id": "qoCQIXw_L8co"
      },
      "outputs": [],
      "source": [
        "# Your code/ answer goes here."
      ]
    },
    {
      "cell_type": "markdown",
      "metadata": {
        "id": "QbIviqR6L8co"
      },
      "source": [
        "### Cutting off search\n",
        "\n",
        "Modify your Minimax Search with Alpha-Beta Pruning to cut off search at a specified depth and use the heuristic evaluation function. Experiment with different cutoff values."
      ]
    },
    {
      "cell_type": "code",
      "execution_count": null,
      "metadata": {
        "id": "IhKCwDTPL8co"
      },
      "outputs": [],
      "source": [
        "# Your code/ answer goes here."
      ]
    },
    {
      "cell_type": "markdown",
      "metadata": {
        "id": "NBpYGvxBL8co"
      },
      "source": [
        "Experiment with the same manually created boards as above to check if the agent spots winning opportunities."
      ]
    },
    {
      "cell_type": "code",
      "execution_count": null,
      "metadata": {
        "id": "KHqb_K5YL8co"
      },
      "outputs": [],
      "source": [
        "# Your code/ answer goes here."
      ]
    },
    {
      "cell_type": "markdown",
      "metadata": {
        "id": "ZaBC7W7VL8cp"
      },
      "source": [
        "How long does it take to make a move? Start with a smaller board with 4 columns and make the board larger by adding columns."
      ]
    },
    {
      "cell_type": "code",
      "execution_count": null,
      "metadata": {
        "id": "yb303vWbL8cp"
      },
      "outputs": [],
      "source": [
        "# Your code/ answer goes here."
      ]
    },
    {
      "cell_type": "markdown",
      "metadata": {
        "id": "bokyrXrkL8cp"
      },
      "source": [
        "### Playtime\n",
        "\n",
        "Let two heuristic search agents (different cutoff depth, different heuristic evaluation function) compete against each other on a reasonably sized board. Since there is no randomness, you only need to let them play once."
      ]
    },
    {
      "cell_type": "code",
      "execution_count": null,
      "metadata": {
        "id": "hUILjLbdL8cp"
      },
      "outputs": [],
      "source": [
        "# Your code/ answer goes here."
      ]
    },
    {
      "cell_type": "markdown",
      "metadata": {
        "id": "UFhDH9M_L8cp"
      },
      "source": [
        "---\n",
        "Assignment adapted from [Michael Hahsler](https://github.com/mhahsler/CS7320-AI) under [CC BY-SA](https://creativecommons.org/licenses/by-sa/4.0/deed.en) license.\n"
      ]
    }
  ],
  "metadata": {
    "kernelspec": {
      "display_name": "Python 3 (ipykernel)",
      "language": "python",
      "name": "python3"
    },
    "language_info": {
      "codemirror_mode": {
        "name": "ipython",
        "version": 3
      },
      "file_extension": ".py",
      "mimetype": "text/x-python",
      "name": "python",
      "nbconvert_exporter": "python",
      "pygments_lexer": "ipython3",
      "version": "3.9.5"
    },
    "colab": {
      "provenance": [],
      "include_colab_link": true
    }
  },
  "nbformat": 4,
  "nbformat_minor": 0
}